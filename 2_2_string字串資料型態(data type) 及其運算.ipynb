{
  "nbformat": 4,
  "nbformat_minor": 0,
  "metadata": {
    "colab": {
      "name": "Untitled2.ipynb",
      "provenance": [],
      "authorship_tag": "ABX9TyNMMA/G9Tqj63jpeSVBBhts",
      "include_colab_link": true
    },
    "kernelspec": {
      "name": "python3",
      "display_name": "Python 3"
    }
  },
  "cells": [
    {
      "cell_type": "markdown",
      "metadata": {
        "id": "view-in-github",
        "colab_type": "text"
      },
      "source": [
        "<a href=\"https://colab.research.google.com/github/EUGENG0719/11/blob/master/2_2_string%E5%AD%97%E4%B8%B2%E8%B3%87%E6%96%99%E5%9E%8B%E6%85%8B(data%20type)%20%E5%8F%8A%E5%85%B6%E9%81%8B%E7%AE%97.ipynb\" target=\"_parent\"><img src=\"https://colab.research.google.com/assets/colab-badge.svg\" alt=\"Open In Colab\"/></a>"
      ]
    },
    {
      "cell_type": "markdown",
      "metadata": {
        "id": "_DR7lRYw8o5a"
      },
      "source": [
        "20200921\n"
      ]
    },
    {
      "cell_type": "code",
      "metadata": {
        "id": "FPZmhSF4pozy",
        "outputId": "1861034a-6f59-49ef-8d93-241ad9c2074d",
        "colab": {
          "base_uri": "https://localhost:8080/",
          "height": 68
        }
      },
      "source": [
        "str1 = '這是字串'\n",
        "print(str1)\n",
        "\n",
        "str2 = \"這也是字串\"\n",
        "print(str2)\n",
        "\n",
        "str3 = 'allows embedded \"double\" quotes'\n",
        "print(str3)"
      ],
      "execution_count": 1,
      "outputs": [
        {
          "output_type": "stream",
          "text": [
            "這是字串\n",
            "這也是字串\n",
            "allows embedded \"double\" quotes\n"
          ],
          "name": "stdout"
        }
      ]
    },
    {
      "cell_type": "code",
      "metadata": {
        "id": "xtYNGBvSpzo9",
        "outputId": "948370ee-b527-472b-fa97-2d804aa26bf4",
        "colab": {
          "base_uri": "https://localhost:8080/",
          "height": 51
        }
      },
      "source": [
        "#!/usr/bin/python\n",
        " \n",
        "var1 = 'Hello Python!'\n",
        " \n",
        "print(\"var1[0]: \", var1[0])\n",
        "print(\"var1[1:8]: \", var1[1:8])"
      ],
      "execution_count": 2,
      "outputs": [
        {
          "output_type": "stream",
          "text": [
            "var1[0]:  H\n",
            "var1[1:8]:  ello Py\n"
          ],
          "name": "stdout"
        }
      ]
    },
    {
      "cell_type": "code",
      "metadata": {
        "id": "Nt2gXwMap4Aj",
        "outputId": "130dd9c5-73ae-4a94-81ad-8969c6a10f0c",
        "colab": {
          "base_uri": "https://localhost:8080/",
          "height": 68
        }
      },
      "source": [
        "#!/usr/bin/python\n",
        "# -*- coding: UTF-8 -*-\n",
        " \n",
        "str1 = 'Hello World!'\n",
        "\n",
        "print(\"更新前的字串-> \", str1[:])\n",
        "print(\"更新前的字串(也可以這樣寫)-> \", str1)\n",
        "print(\"更新後的字串-> \", str1[:6] + 'Python!')"
      ],
      "execution_count": 3,
      "outputs": [
        {
          "output_type": "stream",
          "text": [
            "更新前的字串->  Hello World!\n",
            "更新前的字串(也可以這樣寫)->  Hello World!\n",
            "更新後的字串->  Hello Python!\n"
          ],
          "name": "stdout"
        }
      ]
    },
    {
      "cell_type": "code",
      "metadata": {
        "id": "UPehPiVLp8Hj",
        "outputId": "acb3743c-9b66-4d33-a40e-2dbc2211ccc3",
        "colab": {
          "base_uri": "https://localhost:8080/",
          "height": 34
        }
      },
      "source": [
        "str4=str1 + str2\n",
        "print(str4)"
      ],
      "execution_count": 4,
      "outputs": [
        {
          "output_type": "stream",
          "text": [
            "Hello World!這也是字串\n"
          ],
          "name": "stdout"
        }
      ]
    },
    {
      "cell_type": "code",
      "metadata": {
        "id": "GVQ7LbOpqD17",
        "outputId": "b09bf611-e1ce-46e0-e35a-e0d69841b714",
        "colab": {
          "base_uri": "https://localhost:8080/",
          "height": 34
        }
      },
      "source": [
        "a='  Hello   '\n",
        "b='  Python ! '\n",
        "\n",
        "a+b\n",
        "\n",
        "a*2\n",
        "\n",
        "a[1:4]\n",
        "\n",
        "\"H\" in a\n",
        "\n",
        "\"H\" not in a"
      ],
      "execution_count": 5,
      "outputs": [
        {
          "output_type": "execute_result",
          "data": {
            "text/plain": [
              "False"
            ]
          },
          "metadata": {
            "tags": []
          },
          "execution_count": 5
        }
      ]
    },
    {
      "cell_type": "code",
      "metadata": {
        "id": "t5_KpzU9qMU6",
        "outputId": "05023ce9-1207-40a6-e40f-bd4ba610715c",
        "colab": {
          "base_uri": "https://localhost:8080/",
          "height": 51
        }
      },
      "source": [
        "def reverse(s): \n",
        "    if len(s) == 0: \n",
        "        return s \n",
        "    else: \n",
        "        return reverse(s[1:]) + s[0] \n",
        "  \n",
        "#s = \"HappyHackingDay\"\n",
        "s = \"BreakAllCTF{HappyHackingDay}\"\n",
        "\n",
        "print (\"The original string  is : \",end=\"\") \n",
        "print (s) \n",
        "  \n",
        "print (\"The reversed string(using recursion) is : \",end=\"\") \n",
        "print (reverse(s))"
      ],
      "execution_count": 7,
      "outputs": [
        {
          "output_type": "stream",
          "text": [
            "The original string  is : BreakAllCTF{HappyHackingDay}\n",
            "The reversed string(using recursion) is : }yaDgnikcaHyppaH{FTCllAkaerB\n"
          ],
          "name": "stdout"
        }
      ]
    },
    {
      "cell_type": "code",
      "metadata": {
        "id": "cHk6fGGhqYOM",
        "outputId": "d08ad2e3-0da1-4398-8f68-f01c5b026244",
        "colab": {
          "base_uri": "https://localhost:8080/",
          "height": 34
        }
      },
      "source": [
        "str1='happy python day'\n",
        "str2='    Oh!   '\n",
        "str4=str1 + str2\n",
        "print(str4.capitalize())"
      ],
      "execution_count": 9,
      "outputs": [
        {
          "output_type": "stream",
          "text": [
            "Happy python day    oh!   \n"
          ],
          "name": "stdout"
        }
      ]
    },
    {
      "cell_type": "code",
      "metadata": {
        "id": "eUu8WaPrqosi",
        "outputId": "519a41eb-5c20-460c-d276-03d665e326ac",
        "colab": {
          "base_uri": "https://localhost:8080/",
          "height": 51
        }
      },
      "source": [
        "#!/usr/bin/python\n",
        "# -*- coding: UTF-8 -*-\n",
        " \n",
        "str = \"Python2019\"\n",
        "print(str.isalpha())\n",
        "\n",
        "str = \"Python\"\n",
        "print(str.isalpha())"
      ],
      "execution_count": 12,
      "outputs": [
        {
          "output_type": "stream",
          "text": [
            "False\n",
            "True\n"
          ],
          "name": "stdout"
        }
      ]
    },
    {
      "cell_type": "code",
      "metadata": {
        "id": "Okl0RB1e77Yo",
        "outputId": "3d68b18f-bb8d-466c-db46-41de577dca3c",
        "colab": {
          "base_uri": "https://localhost:8080/",
          "height": 84
        }
      },
      "source": [
        "#!/usr/bin/python\n",
        "# -*- coding: UTF-8 -*-\n",
        " \n",
        "str = \"Python2019\"\n",
        "print(str.isalnum())\n",
        "\n",
        "str = \"Python\"\n",
        "print(str.isalnum())\n",
        "\n",
        "str = \"2019\"\n",
        "print(str.isalnum())\n",
        "\n",
        "str = \"Python 2019\"\n",
        "print(str.isalnum())"
      ],
      "execution_count": null,
      "outputs": [
        {
          "output_type": "stream",
          "text": [
            "True\n",
            "True\n",
            "True\n",
            "False\n"
          ],
          "name": "stdout"
        }
      ]
    }
  ]
}